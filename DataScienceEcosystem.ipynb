{
  "nbformat": 4,
  "nbformat_minor": 0,
  "metadata": {
    "colab": {
      "provenance": []
    },
    "kernelspec": {
      "name": "python3",
      "display_name": "Python 3"
    },
    "language_info": {
      "name": "python"
    }
  },
  "cells": [
    {
      "cell_type": "markdown",
      "source": [
        "<strong>Exercise 1: Create a Jupyter Notebook<strong>"
      ],
      "metadata": {
        "id": "IXixY5ZWhXeW"
      }
    },
    {
      "cell_type": "markdown",
      "source": [
        "<h2><strong>Name:</strong> DataScienceEcosystem</h2>"
      ],
      "metadata": {
        "id": "zO43sjc2bCdq"
      }
    },
    {
      "cell_type": "markdown",
      "source": [
        "<strong>Exercise 2: Create markdown cell with title of the notebook<strong>"
      ],
      "metadata": {
        "id": "TdejTarwbLl2"
      }
    },
    {
      "cell_type": "markdown",
      "source": [
        "<h1>Data Science Tools and Ecosystem</h1>"
      ],
      "metadata": {
        "id": "1OAVQcbKbH4M"
      }
    },
    {
      "cell_type": "markdown",
      "source": [
        "<strong>Exercise 3 - Create a markdown cell for an introduction<strong>"
      ],
      "metadata": {
        "id": "ANx6zXS5bPQS"
      }
    },
    {
      "cell_type": "markdown",
      "source": [
        "In this notebook, Data Science Tools and Ecosystem are summarized."
      ],
      "metadata": {
        "id": "h9ZsQmh2bPOR"
      }
    },
    {
      "cell_type": "markdown",
      "source": [
        "<strong>Objectives:</strong>\n",
        "<ul>\n",
        "    <li>List popular languages that Data Scientists use.</li>\n",
        "    <li>List commonly used libraries used by Data Scientists.</li>\n",
        "    <li>Comment on Data Science tools.</li>\n",
        "</ul>\n",
        "    "
      ],
      "metadata": {
        "id": "IHOj7BWmg5et"
      }
    },
    {
      "cell_type": "markdown",
      "source": [
        "<strong>Exercise 4 - Create a markdown cell to list data science languages<strong>"
      ],
      "metadata": {
        "id": "I2KN0vp8bPL8"
      }
    },
    {
      "cell_type": "markdown",
      "source": [
        "Some of the popular languages that Data Scientists use are:\n",
        "\n",
        "1. Python\n",
        "2. R\n",
        "3. SQL"
      ],
      "metadata": {
        "id": "5K2qHEO6bPJy"
      }
    },
    {
      "cell_type": "markdown",
      "source": [
        "<strong>Exercise 5 - Create a markdown cell to list data science libraries<strong>"
      ],
      "metadata": {
        "id": "ffg_g5BpbPHg"
      }
    },
    {
      "cell_type": "markdown",
      "source": [
        "Some of the commonly used libraries used by Data Scientists include:\n",
        "\n",
        "1. Python\n",
        "2. R\n",
        "3. SQL"
      ],
      "metadata": {
        "id": "mKyjmCxibPFI"
      }
    },
    {
      "cell_type": "markdown",
      "source": [
        "<strong>Exercise 6 - Create a markdown cell with a table of Data Science tools<strong>"
      ],
      "metadata": {
        "id": "Qt6OpHaVbPCa"
      }
    },
    {
      "cell_type": "markdown",
      "source": [
        "Data Science Tools:\n",
        "\n",
        "<table style=\"width:100%\">\n",
        "  <tr>\n",
        "    <th>Data Science Tools</th>\n",
        "    <th></th>\n",
        "    <th></th>\n",
        "  </tr>\n",
        "  <tr>\n",
        "    <td>Jupyter Notebook</td>\n",
        "    <td></td>\n",
        "    <td></td>\n",
        "  </tr>\n",
        "  <tr>\n",
        "    <td>Rstudio</td>\n",
        "    <td></td>\n",
        "    <td></td>\n",
        "  </tr>\n",
        "  <tr>\n",
        "    <td>BigML</td>\n",
        "    <td></td>\n",
        "    <td></td>\n",
        "  </tr>\n",
        "    <tr>\n",
        "    <td>Python IDEs</td>\n",
        "    <td></td>\n",
        "    <td></td>\n",
        "  </tr>\n",
        "</table>"
      ],
      "metadata": {
        "id": "Qg3-3znsfIl6"
      }
    },
    {
      "cell_type": "markdown",
      "source": [
        "<strong>Exercise 7 - Create a markdown cell introducing arithmetic expression examples<strong>"
      ],
      "metadata": {
        "id": "QQieIwuXcfOZ"
      }
    },
    {
      "cell_type": "markdown",
      "source": [
        "<h3>Below are a few examples of evaluating arithmetic expressions in Python</h3>"
      ],
      "metadata": {
        "id": "SJeVJCSLcfoC"
      }
    },
    {
      "cell_type": "code",
      "source": [
        "result = 5 - 4\n",
        "print(result)"
      ],
      "metadata": {
        "colab": {
          "base_uri": "https://localhost:8080/"
        },
        "id": "kbercPCjc1dA",
        "outputId": "5d72f326-3ebd-49ad-9985-74042814a684"
      },
      "execution_count": null,
      "outputs": [
        {
          "output_type": "stream",
          "name": "stdout",
          "text": [
            "1\n"
          ]
        }
      ]
    },
    {
      "cell_type": "code",
      "source": [
        "result = 10+20\n",
        "print(result)"
      ],
      "metadata": {
        "colab": {
          "base_uri": "https://localhost:8080/"
        },
        "id": "gbB2JYnPdLWF",
        "outputId": "be72bd95-902e-4955-c498-52f728f88174"
      },
      "execution_count": null,
      "outputs": [
        {
          "output_type": "stream",
          "name": "stdout",
          "text": [
            "30\n"
          ]
        }
      ]
    },
    {
      "cell_type": "code",
      "source": [
        "result = 10 / 2\n",
        "print(result)"
      ],
      "metadata": {
        "colab": {
          "base_uri": "https://localhost:8080/"
        },
        "id": "svBrHSi5d5-W",
        "outputId": "5a7d9312-d73b-4573-e81a-84afbacfb927"
      },
      "execution_count": null,
      "outputs": [
        {
          "output_type": "stream",
          "name": "stdout",
          "text": [
            "5.0\n"
          ]
        }
      ]
    },
    {
      "cell_type": "markdown",
      "source": [
        "<strong>Exercise 8 - Create a code cell to multiply and add numbers<strong>"
      ],
      "metadata": {
        "id": "BEAfgAzDcf8L"
      }
    },
    {
      "cell_type": "markdown",
      "source": [
        "This a simple arithmetic expression to mutiply then add integers\n",
        "\n"
      ],
      "metadata": {
        "id": "TBGXO0TpcgJk"
      }
    },
    {
      "cell_type": "code",
      "source": [
        "(3*4)+5\n",
        "#Result: 17"
      ],
      "metadata": {
        "colab": {
          "base_uri": "https://localhost:8080/"
        },
        "id": "5e7vA5E-eCl8",
        "outputId": "33e97eac-c1f1-407f-b89b-34de30ad6e14"
      },
      "execution_count": null,
      "outputs": [
        {
          "output_type": "execute_result",
          "data": {
            "text/plain": [
              "17"
            ]
          },
          "metadata": {},
          "execution_count": 12
        }
      ]
    },
    {
      "cell_type": "markdown",
      "source": [
        "<strong>Exercise 9 - Create a code cell to convert minutes to hours<strong>"
      ],
      "metadata": {
        "id": "9eVaN1QMcgYR"
      }
    },
    {
      "cell_type": "markdown",
      "source": [
        "This will convert 200 minutes to hours by diving by 60"
      ],
      "metadata": {
        "id": "RoHyxyxKcgj0"
      }
    },
    {
      "cell_type": "code",
      "source": [
        "# This will convert 200 minutes to hours by dividing by 60.\n",
        "minutes = 200\n",
        "hours = minutes / 60\n",
        "hours\n",
        "##result: 3.3333333333333335"
      ],
      "metadata": {
        "colab": {
          "base_uri": "https://localhost:8080/"
        },
        "id": "KM3jp-72eNeH",
        "outputId": "233f2346-b95b-4ad1-8d97-783696d70498"
      },
      "execution_count": null,
      "outputs": [
        {
          "output_type": "execute_result",
          "data": {
            "text/plain": [
              "3.3333333333333335"
            ]
          },
          "metadata": {},
          "execution_count": 15
        }
      ]
    },
    {
      "cell_type": "markdown",
      "source": [
        "<strong>Exercise 10 - Insert a markdown cell to list Objectives<strong>"
      ],
      "metadata": {
        "id": "qM-H00BScqEQ"
      }
    },
    {
      "cell_type": "markdown",
      "source": [
        "Below the introduction cell created in Exercise 3, insert a new markdown cell to list the objectives that this notebook covered (i.e. some of the key takeaways from the course). In this new cell start with an introductory line titled: Objectives: in bold font. Then using an unordered list (bullets) indicate 3 to 5 items covered in this notebook, such as List popular languages for Data Science."
      ],
      "metadata": {
        "id": "ybgOzfzXcqTt"
      }
    },
    {
      "cell_type": "markdown",
      "source": [
        "<strong>Exercise 11 - Create a markdown cell to indicate the Author's name<strong>"
      ],
      "metadata": {
        "id": "a9Yi-puncqsK"
      }
    },
    {
      "cell_type": "markdown",
      "source": [
        "<h2>Author:</h2> TriLe\n"
      ],
      "metadata": {
        "id": "1ekwe6EGhDyK"
      }
    }
  ]
}